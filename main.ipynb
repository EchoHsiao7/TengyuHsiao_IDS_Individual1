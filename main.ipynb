{
 "cells": [
  {
   "cell_type": "code",
   "execution_count": 5,
   "metadata": {},
   "outputs": [
    {
     "name": "stdout",
     "output_type": "stream",
     "text": [
      "price Statistics:\n",
      "\n",
      "Mean: 17.519513333333332\n",
      "Median: 14.99\n",
      "Standard Deviation: 12.646611586491048\n"
     ]
    }
   ],
   "source": [
    "\"\"\"\n",
    "This module reads a csv file and produce some useful statistics from it.\n",
    "\"\"\"\n",
    "\n",
    "\n",
    "from lib import analyze_column\n",
    "result = analyze_column(\"Steam_2024_bestRevenue_1500.csv\", \"price\")"
   ]
  },
  {
   "cell_type": "code",
   "execution_count": null,
   "metadata": {},
   "outputs": [],
   "source": []
  }
 ],
 "metadata": {
  "kernelspec": {
   "display_name": "Python 3",
   "language": "python",
   "name": "python3"
  },
  "language_info": {
   "codemirror_mode": {
    "name": "ipython",
    "version": 3
   },
   "file_extension": ".py",
   "mimetype": "text/x-python",
   "name": "python",
   "nbconvert_exporter": "python",
   "pygments_lexer": "ipython3",
   "version": "3.11.9"
  }
 },
 "nbformat": 4,
 "nbformat_minor": 2
}
